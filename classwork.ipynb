{
 "cells": [
  {
   "cell_type": "markdown",
   "id": "fca39867-e749-42b0-a736-56997cbd10d0",
   "metadata": {},
   "source": [
    "# My Jupyter Notebook on IBM Watson Studio"
   ]
  },
  {
   "cell_type": "markdown",
   "id": "4b6190a6-6f22-4f7f-9660-e7f1603a66c2",
   "metadata": {},
   "source": [
    "**my name is ifeanyi malu a student of MS data science**"
   ]
  },
  {
   "cell_type": "markdown",
   "id": "cc261ce8-2a36-41df-92d9-8751ada79872",
   "metadata": {},
   "source": [
    "* I love to solve real world business problems using data*"
   ]
  },
  {
   "cell_type": "markdown",
   "id": "169bb9b1-5053-460f-8513-3b6ec769fde6",
   "metadata": {},
   "source": [
    "### my code will add two numbers"
   ]
  },
  {
   "cell_type": "code",
   "execution_count": 1,
   "id": "a1ccfa8c-4271-44ca-a712-f398362a02cc",
   "metadata": {},
   "outputs": [
    {
     "data": {
      "text/plain": [
       "2"
      ]
     },
     "execution_count": 1,
     "metadata": {},
     "output_type": "execute_result"
    }
   ],
   "source": [
    "1+1"
   ]
  },
  {
   "cell_type": "markdown",
   "id": "70338fd6-a00f-40d9-9fb6-4feb23f39441",
   "metadata": {},
   "source": [
    "*bullet list\n",
    "1.number list\n",
    "~~strikethrough~~"
   ]
  },
  {
   "cell_type": "code",
   "execution_count": null,
   "id": "0322a858-a5d9-4148-8d70-51dbec0f4591",
   "metadata": {},
   "outputs": [],
   "source": []
  }
 ],
 "metadata": {
  "kernelspec": {
   "display_name": "Python",
   "language": "python",
   "name": "conda-env-python-py"
  },
  "language_info": {
   "codemirror_mode": {
    "name": "ipython",
    "version": 3
   },
   "file_extension": ".py",
   "mimetype": "text/x-python",
   "name": "python",
   "nbconvert_exporter": "python",
   "pygments_lexer": "ipython3",
   "version": "3.7.12"
  }
 },
 "nbformat": 4,
 "nbformat_minor": 5
}
